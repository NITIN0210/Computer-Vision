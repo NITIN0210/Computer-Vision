{
 "cells": [
  {
   "cell_type": "code",
   "execution_count": 2,
   "source": [
    "import cv2\r\n",
    "import numpy as np\r\n",
    "import numba as nb\r\n",
    "import depthai as dai"
   ],
   "outputs": [],
   "metadata": {}
  },
  {
   "cell_type": "code",
   "execution_count": 3,
   "source": [
    "\r\n",
    "#Captures the image oakd camera feed\r\n",
    "def integral_image(image, *, dtype=None):\r\n",
    "    if dtype is None and image.real.dtype.kind == 'f':\r\n",
    "        dtype = np.promote_types(image.dtype, np.float64)\r\n",
    "\r\n",
    "    S = image\r\n",
    "    for i in range(image.ndim):\r\n",
    "        S = S.cumsum(axis=i, dtype=dtype)\r\n",
    "    return S\r\n",
    "\r\n",
    "\r\n"
   ],
   "outputs": [],
   "metadata": {}
  },
  {
   "cell_type": "code",
   "execution_count": 4,
   "source": [
    "@nb.njit(nb.uint16[::1] (nb.uint8[::1], nb.uint16[::1], nb.boolean), parallel=True, cache=True)\r\n",
    "def unpack_raw10(input, out, expand16bit):\r\n",
    "    lShift = 6 if expand16bit else 0\r\n",
    "    for i in nb.prange(input.size // 5): # around  5ms per frame\r\n",
    "        b4 = input[i * 5 + 4]\r\n",
    "        out[i * 4]     = ((input[i * 5]     << 2) | ( b4       & 0x3)) << lShift\r\n",
    "        out[i * 4 + 1] = ((input[i * 5 + 1] << 2) | ((b4 >> 2) & 0x3)) << lShift\r\n",
    "        out[i * 4 + 2] = ((input[i * 5 + 2] << 2) | ((b4 >> 4) & 0x3)) << lShift\r\n",
    "        out[i * 4 + 3] = ((input[i * 5 + 3] << 2) |  (b4 >> 6)       ) << lShift\r\n",
    "    return out"
   ],
   "outputs": [],
   "metadata": {}
  },
  {
   "cell_type": "code",
   "execution_count": 6,
   "source": [
    "streams = []\r\n",
    "# Enable one or both streams\r\n",
    "streams.append('isp')\r\n",
    "print(\"The depthai version:\", dai.__version__)\r\n",
    "pipeline = dai.Pipeline()\r\n",
    "cam = pipeline.createColorCamera()\r\n",
    "cam.setResolution(dai.ColorCameraProperties.SensorResolution.THE_12_MP)\r\n",
    "if 'isp' in streams:\r\n",
    "    xout_isp = pipeline.createXLinkOut()\r\n",
    "    xout_isp.setStreamName('isp')\r\n",
    "    cam.isp.link(xout_isp.input)\r\n",
    "device = dai.Device(pipeline)\r\n",
    "device.startPipeline()\r\n",
    "queue_list = []\r\n",
    "for s in streams:\r\n",
    "    q = device.getOutputQueue(name=s, maxSize=3, blocking=True)\r\n",
    "    queue_list.append(q)\r\n",
    "    # Make window resizable, and configure initial size\r\n",
    "    cv2.namedWindow(s, cv2.WINDOW_NORMAL)\r\n",
    "    cv2.resizeWindow(s, (960, 540))\r\n",
    "capture_flag = False\r\n",
    "img_counter = 0\r\n",
    "while True:\r\n",
    "    for q in queue_list:\r\n",
    "        name = q.getName()\r\n",
    "        data = q.get()\r\n",
    "        width, height = data.getWidth(), data.getHeight()\r\n",
    "        payload = data.getData()\r\n",
    "        capture_file_info_str = f\"capture_{name}_{img_counter}\"\r\n",
    "        if name == 'isp':\r\n",
    "            shape = (height * 3 // 2, width)\r\n",
    "            yuv420p = payload.reshape(shape).astype(np.uint8)\r\n",
    "            bgr = cv2.cvtColor(yuv420p, cv2.COLOR_YUV2BGR_IYUV)\r\n",
    "            # grayscale_img =  cv2.cvtColor(bgr,cv2.COLOR_BGR2GRAY)\r\n",
    "            frame= cv2.copyMakeBorder(bgr, 50, 50, 50, 50, cv2.BORDER_CONSTANT, (0,0,0))\r\n",
    "            frame=integral_image(frame)\r\n",
    "            frame = frame/np.amax(frame)\r\n",
    "            frame = np.clip(frame, 0,255)\r\n",
    "        if capture_flag:  # Save to disk if 'space' was pressed\r\n",
    "            filename = capture_file_info_str + '.png'\r\n",
    "            print(\"Saving to file:\", filename)\r\n",
    "            grayscale_img = np.ascontiguousarray(grayscale_img)  # just in case\r\n",
    "            cv2.imwrite(filename, grayscale_img)\r\n",
    "        bgr = np.ascontiguousarray(bgr)  # just in case\r\n",
    "        cv2.imshow(name, frame)\r\n",
    "    # Reset capture_flag after iterating through all streams\r\n",
    "    capture_flag = False\r\n",
    "    key = cv2.waitKey(5)\r\n",
    "    if key%256 == 27:\r\n",
    "        #escape \r\n",
    "        print(\"Operation over\")\r\n",
    "        break\r\n",
    "    elif key%256 == 32:\r\n",
    "        #space to click picture\r\n",
    "        capture_flag = True\r\n",
    "        img_counter += 1\r\n"
   ],
   "outputs": [
    {
     "output_type": "stream",
     "name": "stdout",
     "text": [
      "The depthai version: 2.17.3.0\n"
     ]
    },
    {
     "output_type": "stream",
     "name": "stderr",
     "text": [
      "C:\\Users\\NITIN KANKANALA\\AppData\\Local\\Temp\\ipykernel_9564\\2036921418.py:13: DeprecationWarning: Device(pipeline) starts the pipeline automatically. Use Device() and startPipeline(pipeline) otherwise\n",
      "  device.startPipeline()\n"
     ]
    }
   ],
   "metadata": {}
  }
 ],
 "metadata": {
  "orig_nbformat": 4,
  "language_info": {
   "name": "python",
   "version": "3.9.7",
   "mimetype": "text/x-python",
   "codemirror_mode": {
    "name": "ipython",
    "version": 3
   },
   "pygments_lexer": "ipython3",
   "nbconvert_exporter": "python",
   "file_extension": ".py"
  },
  "kernelspec": {
   "name": "python3",
   "display_name": "Python 3.9.7 64-bit ('cvFall22': venv)"
  },
  "interpreter": {
   "hash": "52e41782f98fb38972ac69e0e4a1cd20464197d6de4aa3423c902988ca4cc3bb"
  }
 },
 "nbformat": 4,
 "nbformat_minor": 2
}