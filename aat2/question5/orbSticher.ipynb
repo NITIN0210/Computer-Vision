{
 "cells": [
  {
   "cell_type": "code",
   "execution_count": 1,
   "source": [
    "import cv2\r\n",
    "import numpy as np\r\n",
    "import matplotlib.pyplot as plt\r\n",
    "import imageio\r\n",
    "import imutils\r\n"
   ],
   "outputs": [],
   "metadata": {}
  },
  {
   "cell_type": "code",
   "execution_count": 2,
   "source": [
    "def Main_Ponts_Func(image):  \r\n",
    "    descriptor = cv2.ORB_create()\r\n",
    "    kps, features = descriptor.detectAndCompute(image, None)\r\n",
    "    return (kps, features)\r\n"
   ],
   "outputs": [],
   "metadata": {}
  },
  {
   "cell_type": "code",
   "execution_count": 3,
   "source": [
    "#Read img4 and img3 which are to be stiched\r\n",
    "#training Img\r\n",
    "image_to_train = imageio.imread(r\"E:\\u\\sem1\\cv\\aat2\\question5\\image23.jpg\") \r\n",
    "#queried Img\r\n",
    "image_to_be_queried = imageio.imread(r\"E:\\u\\sem1\\cv\\aat2\\question5\\image22.jpg\") \r\n",
    "gray_image_to_train = cv2.cvtColor(image_to_train, cv2.COLOR_RGB2GRAY)\r\n",
    "gray_image_to_be_queried = cv2.cvtColor(image_to_be_queried, cv2.COLOR_RGB2GRAY)\r\n",
    "kps_train, features_train = Main_Ponts_Func(gray_image_to_train) #kps and features of 1\r\n",
    "kps_query, features_query = Main_Ponts_Func(gray_image_to_be_queried) #kps and features of 2"
   ],
   "outputs": [
    {
     "output_type": "stream",
     "name": "stderr",
     "text": [
      "C:\\Users\\NITINK~1\\AppData\\Local\\Temp/ipykernel_13508/1949667514.py:3: DeprecationWarning: Starting with ImageIO v3 the behavior of this function will switch to that of iio.v3.imread. To keep the current behavior (and make this warning disappear) use `import imageio.v2 as imageio` or call `imageio.v2.imread` directly.\n",
      "  image_to_train = imageio.imread(r\"E:\\u\\sem1\\cv\\aat2\\question5\\image2.jpg\")\n",
      "C:\\Users\\NITINK~1\\AppData\\Local\\Temp/ipykernel_13508/1949667514.py:5: DeprecationWarning: Starting with ImageIO v3 the behavior of this function will switch to that of iio.v3.imread. To keep the current behavior (and make this warning disappear) use `import imageio.v2 as imageio` or call `imageio.v2.imread` directly.\n",
      "  image_to_be_queried = imageio.imread(r\"E:\\u\\sem1\\cv\\aat2\\question5\\image1.jpg\")\n"
     ]
    }
   ],
   "metadata": {}
  },
  {
   "cell_type": "code",
   "execution_count": 4,
   "source": [
    "def Match_The_Key_Points_Func(features_train, features_query, ratio):\r\n",
    "    bf = cv2.BFMatcher(cv2.NORM_L2, crossCheck = False)\r\n",
    "    raw_match = bf.knnMatch(features_train, features_query, 2)\r\n",
    "    matches = []\r\n",
    "    for m, n in raw_match:\r\n",
    "        if m.distance < n.distance * ratio:\r\n",
    "            matches.append(m)\r\n",
    "    return matches    \r\n"
   ],
   "outputs": [],
   "metadata": {}
  },
  {
   "cell_type": "code",
   "execution_count": 5,
   "source": [
    "matches = Match_The_Key_Points_Func(features_train, features_query, 0.75)\r\n"
   ],
   "outputs": [],
   "metadata": {}
  },
  {
   "cell_type": "code",
   "execution_count": 6,
   "source": [
    "def Find_Homography(kps_train, kps_query, matches, reprojThresh):\r\n",
    "    kpsA = np.float32([kp.pt for kp in kps_train])\r\n",
    "    kpsB = np.float32([kp.pt for kp in kps_query])\r\n",
    "    if len(matches) > 4:\r\n",
    "        ptsA = np.float32([kpsA[m.queryIdx] for m in matches])\r\n",
    "        ptsB = np.float32([kpsB[m.trainIdx] for m in matches])\r\n",
    "        (Homography, status) = cv2.findHomography(ptsA, ptsB, cv2.RANSAC, reprojThresh)    \r\n",
    "        return(matches, Homography, status)\r\n",
    "    else:\r\n",
    "        return None\r\n",
    "\r\n"
   ],
   "outputs": [],
   "metadata": {}
  },
  {
   "cell_type": "code",
   "execution_count": 7,
   "source": [
    "\r\n",
    "temp_img = cv2.drawMatches(image_to_train, kps_train, image_to_be_queried, kps_query, np.random.choice(matches,100), None, flags=cv2.DrawMatchesFlags_NOT_DRAW_SINGLE_POINTS)\r\n",
    "M = Find_Homography(kps_train, kps_query, matches, 4)"
   ],
   "outputs": [],
   "metadata": {}
  },
  {
   "cell_type": "code",
   "execution_count": 8,
   "source": [
    "def Transform_To_Gray_Scale_Func(result):\r\n",
    "    gray = cv2.cvtColor(result, cv2.COLOR_BGR2GRAY)\r\n",
    "    thresh = cv2.threshold(gray, 0, 255, cv2.THRESH_BINARY)[1]\r\n",
    "    # To retrieve the contours in the binary image\r\n",
    "    cnts = cv2.findContours(thresh.copy(), cv2.RETR_EXTERNAL, cv2.CHAIN_APPROX_SIMPLE)\r\n",
    "    cnts = imutils.grab_contours(cnts)\r\n",
    "    # TO get the maximum contour area\r\n",
    "    c = max(cnts, key=cv2.contourArea)\r\n",
    "    (x, y, w, h) = cv2.boundingRect(c)\r\n",
    "    result = result[y:y + h, x:x + w]  \r\n",
    "    return result"
   ],
   "outputs": [],
   "metadata": {}
  },
  {
   "cell_type": "code",
   "execution_count": 9,
   "source": [
    "\r\n",
    "matches, homography, status = M\r\n",
    "width = image_to_train.shape[1] + image_to_be_queried.shape[1]\r\n",
    "height = image_to_train.shape[0] + image_to_be_queried.shape[0]\r\n",
    "result = cv2.warpPerspective(image_to_train, homography, (width, height))\r\n",
    "result[0:image_to_be_queried.shape[0], 0:image_to_be_queried.shape[1]] = image_to_be_queried\r\n",
    "result = Transform_To_Gray_Scale_Func(result)\r\n",
    "plt.figure(figsize=(20,10))\r\n",
    "plt.imshow(result)\r\n",
    "plt.show()\r\n",
    "\r\n"
   ],
   "outputs": [
    {
     "output_type": "error",
     "ename": "TypeError",
     "evalue": "cannot unpack non-iterable NoneType object",
     "traceback": [
      "\u001b[1;31m---------------------------------------------------------------------------\u001b[0m",
      "\u001b[1;31mTypeError\u001b[0m                                 Traceback (most recent call last)",
      "\u001b[1;32mC:\\Users\\NITINK~1\\AppData\\Local\\Temp/ipykernel_13508/1648554847.py\u001b[0m in \u001b[0;36m<module>\u001b[1;34m\u001b[0m\n\u001b[1;32m----> 1\u001b[1;33m \u001b[0mmatches\u001b[0m\u001b[1;33m,\u001b[0m \u001b[0mhomography\u001b[0m\u001b[1;33m,\u001b[0m \u001b[0mstatus\u001b[0m \u001b[1;33m=\u001b[0m \u001b[0mM\u001b[0m\u001b[1;33m\u001b[0m\u001b[1;33m\u001b[0m\u001b[0m\n\u001b[0m\u001b[0;32m      2\u001b[0m \u001b[0mwidth\u001b[0m \u001b[1;33m=\u001b[0m \u001b[0mimage_to_train\u001b[0m\u001b[1;33m.\u001b[0m\u001b[0mshape\u001b[0m\u001b[1;33m[\u001b[0m\u001b[1;36m1\u001b[0m\u001b[1;33m]\u001b[0m \u001b[1;33m+\u001b[0m \u001b[0mimage_to_be_queried\u001b[0m\u001b[1;33m.\u001b[0m\u001b[0mshape\u001b[0m\u001b[1;33m[\u001b[0m\u001b[1;36m1\u001b[0m\u001b[1;33m]\u001b[0m\u001b[1;33m\u001b[0m\u001b[1;33m\u001b[0m\u001b[0m\n\u001b[0;32m      3\u001b[0m \u001b[0mheight\u001b[0m \u001b[1;33m=\u001b[0m \u001b[0mimage_to_train\u001b[0m\u001b[1;33m.\u001b[0m\u001b[0mshape\u001b[0m\u001b[1;33m[\u001b[0m\u001b[1;36m0\u001b[0m\u001b[1;33m]\u001b[0m \u001b[1;33m+\u001b[0m \u001b[0mimage_to_be_queried\u001b[0m\u001b[1;33m.\u001b[0m\u001b[0mshape\u001b[0m\u001b[1;33m[\u001b[0m\u001b[1;36m0\u001b[0m\u001b[1;33m]\u001b[0m\u001b[1;33m\u001b[0m\u001b[1;33m\u001b[0m\u001b[0m\n\u001b[0;32m      4\u001b[0m \u001b[0mresult\u001b[0m \u001b[1;33m=\u001b[0m \u001b[0mcv2\u001b[0m\u001b[1;33m.\u001b[0m\u001b[0mwarpPerspective\u001b[0m\u001b[1;33m(\u001b[0m\u001b[0mimage_to_train\u001b[0m\u001b[1;33m,\u001b[0m \u001b[0mhomography\u001b[0m\u001b[1;33m,\u001b[0m \u001b[1;33m(\u001b[0m\u001b[0mwidth\u001b[0m\u001b[1;33m,\u001b[0m \u001b[0mheight\u001b[0m\u001b[1;33m)\u001b[0m\u001b[1;33m)\u001b[0m\u001b[1;33m\u001b[0m\u001b[1;33m\u001b[0m\u001b[0m\n\u001b[0;32m      5\u001b[0m \u001b[0mresult\u001b[0m\u001b[1;33m[\u001b[0m\u001b[1;36m0\u001b[0m\u001b[1;33m:\u001b[0m\u001b[0mimage_to_be_queried\u001b[0m\u001b[1;33m.\u001b[0m\u001b[0mshape\u001b[0m\u001b[1;33m[\u001b[0m\u001b[1;36m0\u001b[0m\u001b[1;33m]\u001b[0m\u001b[1;33m,\u001b[0m \u001b[1;36m0\u001b[0m\u001b[1;33m:\u001b[0m\u001b[0mimage_to_be_queried\u001b[0m\u001b[1;33m.\u001b[0m\u001b[0mshape\u001b[0m\u001b[1;33m[\u001b[0m\u001b[1;36m1\u001b[0m\u001b[1;33m]\u001b[0m\u001b[1;33m]\u001b[0m \u001b[1;33m=\u001b[0m \u001b[0mimage_to_be_queried\u001b[0m\u001b[1;33m\u001b[0m\u001b[1;33m\u001b[0m\u001b[0m\n",
      "\u001b[1;31mTypeError\u001b[0m: cannot unpack non-iterable NoneType object"
     ]
    }
   ],
   "metadata": {}
  }
 ],
 "metadata": {
  "orig_nbformat": 4,
  "language_info": {
   "name": "python",
   "version": "3.9.7",
   "mimetype": "text/x-python",
   "codemirror_mode": {
    "name": "ipython",
    "version": 3
   },
   "pygments_lexer": "ipython3",
   "nbconvert_exporter": "python",
   "file_extension": ".py"
  },
  "kernelspec": {
   "name": "python3",
   "display_name": "Python 3.9.7 64-bit"
  },
  "interpreter": {
   "hash": "63fd5069d213b44bf678585dea6b12cceca9941eaf7f819626cde1f2670de90d"
  }
 },
 "nbformat": 4,
 "nbformat_minor": 2
}