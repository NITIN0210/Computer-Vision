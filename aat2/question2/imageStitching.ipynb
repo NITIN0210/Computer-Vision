{
 "cells": [
  {
   "cell_type": "code",
   "execution_count": 2,
   "source": [
    "import cv2\r\n",
    "import matplotlib.pyplot as plt\r\n",
    "import numpy as np"
   ],
   "outputs": [],
   "metadata": {}
  },
  {
   "cell_type": "code",
   "execution_count": 3,
   "source": [
    "import cv2\r\n",
    "def pan_stich(image_paths,output_loc):\r\n",
    "\r\n",
    "    #We have the images in the filders buildingsSet1,2,3,4,5\r\n",
    "    imgs = []\r\n",
    "    for i in range(len(image_paths)):\r\n",
    "        imgs.append(cv2.imread(image_paths[i]))\r\n",
    "        imgs[i]=cv2.resize(imgs[i],(0,0),fx=0.4,fy=0.4)\r\n",
    "    stitchy=cv2.Stitcher.create()\r\n",
    "    (dummy,output)=stitchy.stitch(imgs)\r\n",
    "    if dummy != cv2.STITCHER_OK:\r\n",
    "        print(\"stitching unsuccessful\")\r\n",
    "    else:\r\n",
    "        print('The panaromic output is stored in '+output_loc+'\\out.jpg')\r\n",
    "    # final output is stored into respective folders\r\n",
    "    cv2.imwrite(output_loc+'\\out.jpg',output)\r\n",
    "\r\n"
   ],
   "outputs": [],
   "metadata": {}
  },
  {
   "cell_type": "code",
   "execution_count": 4,
   "source": [
    "loc=r'E:\\\\u\\sem1\\\\cv\\\\aat2\\\\question2\\buildingsSet1'\r\n",
    "image_paths=[loc+'\\\\rialto_team6-1.jpeg',loc+'\\\\rialto_team6-2.jpeg',loc+'\\\\rialto_team6-3.jpeg']\r\n",
    "image_dest=r'E:\\u\\sem1\\cv\\aat2\\question2\\buildingsSet1'\r\n",
    "pan_stich(image_paths,image_dest)"
   ],
   "outputs": [
    {
     "output_type": "stream",
     "name": "stdout",
     "text": [
      "The panaromic output is stored in E:\\u\\sem1\\cv\\aat2\\question2\\buildingsSet1\\out.jpg\n"
     ]
    }
   ],
   "metadata": {}
  },
  {
   "cell_type": "code",
   "execution_count": 5,
   "source": [
    "loc=r'E:\\\\u\\sem1\\\\cv\\\\aat2\\\\question2\\buildingsSet2'\r\n",
    "image_paths=[loc+r'\\sportsarena1.jpg',loc+r'\\sportsarena2.jpg',loc+r'\\sportsarena3.jpg']\r\n",
    "image_dest=r'E:\\\\u\\sem1\\\\cv\\\\aat2\\\\question2\\buildingsSet2'\r\n",
    "pan_stich(image_paths,image_dest)"
   ],
   "outputs": [
    {
     "output_type": "stream",
     "name": "stdout",
     "text": [
      "The panaromic output is stored in E:\\\\u\\sem1\\\\cv\\\\aat2\\\\question2\\buildingsSet2\\out.jpg\n"
     ]
    }
   ],
   "metadata": {}
  },
  {
   "cell_type": "code",
   "execution_count": 6,
   "source": [
    "loc=r'E:\\\\u\\sem1\\\\cv\\\\aat2\\\\question2\\buildingsSet3'\r\n",
    "image_paths=[loc+r'\\bookstore1.jpg',loc+r'\\bookstore2.jpg',loc+r'\\bookstore3.jpg']\r\n",
    "image_dest=r'E:\\u\\sem1\\cv\\\\aat2\\question2\\buildingsSet3'\r\n",
    "pan_stich(image_paths,image_dest)"
   ],
   "outputs": [
    {
     "output_type": "stream",
     "name": "stdout",
     "text": [
      "The panaromic output is stored in E:\\u\\sem1\\cv\\\\aat2\\question2\\buildingsSet3\\out.jpg\n"
     ]
    }
   ],
   "metadata": {}
  },
  {
   "cell_type": "code",
   "execution_count": 7,
   "source": [
    "loc=r'E:\\u\\sem1\\cv\\aat2\\question2\\buildingsSet4'\r\n",
    "image_paths=[loc+r'\\urbanlife1.jpg',loc+r'\\urbanlife2.jpg',loc+r'\\urbanlife3.jpg']\r\n",
    "image_dest=r'E:\\u\\sem1\\cv\\aat2\\question2\\buildingsSet4'\r\n",
    "pan_stich(image_paths,image_dest)"
   ],
   "outputs": [
    {
     "output_type": "stream",
     "name": "stdout",
     "text": [
      "The panaromic output is stored in E:\\u\\sem1\\cv\\aat2\\question2\\buildingsSet4\\out.jpg\n"
     ]
    }
   ],
   "metadata": {}
  },
  {
   "cell_type": "code",
   "execution_count": 8,
   "source": [
    "loc=r'E:\\u\\sem1\\cv\\aat2\\question2\\buildingsSet5'\r\n",
    "image_paths=[loc+r'\\Art and humanities01_team6.jpg',loc+r'\\Art and humanities02_team6.jpg',loc+r'\\Art and humanities03_team6.jpg']\r\n",
    "image_dest=r'E:\\u\\sem1\\cv\\aat2\\question2\\buildingsSet5'\r\n",
    "pan_stich(image_paths,image_dest)"
   ],
   "outputs": [
    {
     "output_type": "stream",
     "name": "stdout",
     "text": [
      "The panaromic output is stored in E:\\u\\sem1\\cv\\aat2\\question2\\buildingsSet5\\out.jpg\n"
     ]
    }
   ],
   "metadata": {}
  }
 ],
 "metadata": {
  "orig_nbformat": 4,
  "language_info": {
   "name": "python",
   "version": "3.9.7",
   "mimetype": "text/x-python",
   "codemirror_mode": {
    "name": "ipython",
    "version": 3
   },
   "pygments_lexer": "ipython3",
   "nbconvert_exporter": "python",
   "file_extension": ".py"
  },
  "kernelspec": {
   "name": "python3",
   "display_name": "Python 3.9.7 64-bit ('cvFall22': venv)"
  },
  "interpreter": {
   "hash": "52e41782f98fb38972ac69e0e4a1cd20464197d6de4aa3423c902988ca4cc3bb"
  }
 },
 "nbformat": 4,
 "nbformat_minor": 2
}