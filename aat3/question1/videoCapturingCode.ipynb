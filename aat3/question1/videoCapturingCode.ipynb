{
 "cells": [
  {
   "cell_type": "code",
   "execution_count": 2,
   "source": [
    "import cv2\r\n",
    "import depthai as dai\r\n",
    "import time\r\n",
    "from depthai_sdk.fps import FPSHandler"
   ],
   "outputs": [],
   "metadata": {}
  },
  {
   "cell_type": "code",
   "execution_count": 3,
   "source": [
    "# Create pipeline\r\n",
    "pipeline = dai.Pipeline()\r\n",
    "\r\n",
    "# Define source and output\r\n",
    "camRgb = pipeline.create(dai.node.ColorCamera)\r\n",
    "xoutVideo = pipeline.create(dai.node.XLinkOut)\r\n",
    "\r\n",
    "xoutVideo.setStreamName(\"video\")\r\n",
    "\r\n",
    "# Properties\r\n",
    "camRgb.setBoardSocket(dai.CameraBoardSocket.RGB)\r\n",
    "camRgb.setResolution(dai.ColorCameraProperties.SensorResolution.THE_1080_P)\r\n",
    "camRgb.setVideoSize(1920, 1080)\r\n",
    "\r\n",
    "xoutVideo.input.setBlocking(False)\r\n",
    "xoutVideo.input.setQueueSize(1)\r\n",
    "\r\n",
    "# Linking\r\n",
    "camRgb.video.link(xoutVideo.input)\r\n",
    "\r\n",
    "#+=\r\n",
    "frame_width = int(video.get(3))\r\n",
    "frame_height = int(video.get(4))\r\n",
    "   \r\n",
    "size = (frame_width, frame_height)\r\n",
    "result = cv2.VideoWriter('filename.avi', cv2.VideoWriter_fourcc(*'MJPG'), 10, size)\r\n",
    "    \r\n",
    "while(True):\r\n",
    "#+=\r\n",
    "\r\n",
    "# Connect to device and start pipeline\r\n",
    "with dai.Device(pipeline) as device:\r\n",
    "\r\n",
    "    video = device.getOutputQueue(name=\"video\", maxSize=1, blocking=False)\r\n",
    "\r\n",
    "    while True:\r\n",
    "        videoIn = video.get()\r\n",
    "\r\n",
    "        # Get BGR frame from NV12 encoded video frame to show with opencv\r\n",
    "        # Visualizing the frame on slower hosts might have overhead\r\n",
    "        cv2.imshow(\"video\", videoIn.getCvFrame())\r\n",
    "\r\n",
    "        if cv2.waitKey(1) == ord('q'):\r\n",
    "            break"
   ],
   "outputs": [],
   "metadata": {}
  }
 ],
 "metadata": {
  "orig_nbformat": 4,
  "language_info": {
   "name": "python",
   "version": "3.9.7",
   "mimetype": "text/x-python",
   "codemirror_mode": {
    "name": "ipython",
    "version": 3
   },
   "pygments_lexer": "ipython3",
   "nbconvert_exporter": "python",
   "file_extension": ".py"
  },
  "kernelspec": {
   "name": "python3",
   "display_name": "Python 3.9.7 64-bit ('cvFall22': venv)"
  },
  "interpreter": {
   "hash": "52e41782f98fb38972ac69e0e4a1cd20464197d6de4aa3423c902988ca4cc3bb"
  }
 },
 "nbformat": 4,
 "nbformat_minor": 2
}