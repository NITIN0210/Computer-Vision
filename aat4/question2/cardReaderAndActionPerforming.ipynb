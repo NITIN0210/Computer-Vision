{
 "cells": [
  {
   "cell_type": "code",
   "execution_count": 8,
   "source": [
    "import cv2\r\n",
    "import depthai as dai\r\n",
    "import time\r\n",
    "from depthai_sdk.fps import FPSHandler\r\n",
    "import pytesseract\r\n",
    "import webbrowser\r\n",
    "\r\n"
   ],
   "outputs": [],
   "metadata": {}
  },
  {
   "cell_type": "code",
   "execution_count": 9,
   "source": [
    "pytesseract.pytesseract.tesseract_cmd = r\"C:\\Program Files\\Tesseract-OCR\\tesseract.exe\"\r\n",
    "\r\n",
    "cascPath = \"haarcascade_frontalface_default.xml\"\r\n",
    "faceCascade = cv2.CascadeClassifier(cascPath)\r\n",
    "\r\n",
    "image = cv2.imread(r\"E:\\u\\sem1\\cv\\aat4\\question2\\nitin0210.png\",1) \r\n",
    "gray = cv2.cvtColor(image, cv2.COLOR_BGR2GRAY)"
   ],
   "outputs": [],
   "metadata": {}
  },
  {
   "cell_type": "code",
   "execution_count": 11,
   "source": [
    "\r\n",
    "# Create pipeline\r\n",
    "pipeline = dai.Pipeline()\r\n",
    "\r\n",
    "# Define source and output\r\n",
    "camRgb = pipeline.create(dai.node.ColorCamera)\r\n",
    "xoutVideo = pipeline.create(dai.node.XLinkOut)\r\n",
    "\r\n",
    "xoutVideo.setStreamName(\"video\")\r\n",
    "\r\n",
    "# Properties\r\n",
    "camRgb.setBoardSocket(dai.CameraBoardSocket.RGB)\r\n",
    "camRgb.setResolution(dai.ColorCameraProperties.SensorResolution.THE_1080_P)\r\n",
    "camRgb.setVideoSize(1280,720)\r\n",
    "\r\n",
    "xoutVideo.input.setBlocking(False)\r\n",
    "xoutVideo.input.setQueueSize(1)\r\n",
    "\r\n",
    "# Linking\r\n",
    "camRgb.video.link(xoutVideo.input)\r\n",
    "# Connect to device and start pipeline\r\n",
    "start_time = time.time()\r\n",
    "x = 1\r\n",
    "counter = 0\r\n",
    "count=0\r\n",
    "with dai.Device(pipeline) as device:\r\n",
    "\r\n",
    "    video = device.getOutputQueue(name=\"video\", maxSize=1, blocking=False)\r\n",
    "\r\n",
    "    while True:\r\n",
    "        videoIn = video.get()\r\n",
    "        Frame=videoIn.getCvFrame()\r\n",
    "        counter+=1\r\n",
    "        font = cv2.FONT_HERSHEY_SIMPLEX\r\n",
    "        if (time.time() - start_time) >= 1 :\r\n",
    "                fps=counter\r\n",
    "                counter = 0\r\n",
    "                start_time = time.time()\r\n",
    "        cv2.putText(Frame, str(fps)+' '+str(camRgb.getVideoSize()), (7, 70), font, 1, (100, 255, 0), 1, cv2.LINE_AA)\r\n",
    "        cv2.imshow(\"video\", Frame)\r\n",
    "        if cv2.waitKey(1)==ord('p'):\r\n",
    "            count+=1\r\n",
    "            cv2.imwrite(R'E:\\u\\sem1\\cv\\aat3\\question6\\images'+'\\image'+str(count)+'.jpg',Frame)\r\n",
    "            img = cv2.imread(R'E:\\u\\sem1\\cv\\aat3\\question6\\images\\nitin0210.png')\r\n",
    "            img = cv2.imread(R'E:\\u\\sem1\\cv\\aat4\\question2\\nitin0210.png')\r\n",
    "\r\n",
    "            ret, thresh1 = cv2.threshold(gray, 0, 255, cv2.THRESH_OTSU | cv2.THRESH_BINARY_INV)\r\n",
    "            rect_kernel = cv2.getStructuringElement(cv2.MORPH_RECT, (18, 18))\r\n",
    "            dilation = cv2.dilate(thresh1, rect_kernel, iterations = 1)\r\n",
    "            contours, hierarchy = cv2.findContours(dilation, cv2.RETR_EXTERNAL, cv2.CHAIN_APPROX_NONE)\r\n",
    "\r\n",
    "            image2 = img.copy() \r\n",
    "            file = open(\"information.txt\", \"w+\")\r\n",
    "            file.write(\"\")\r\n",
    "            file.close()\r\n",
    "            for cnt in contours:\r\n",
    "                x, y, w, h = cv2.boundingRect(cnt)\r\n",
    "                rect = cv2.rectangle(image2, (x, y), (x + w, y + h), (0, 255, 0), 2)\r\n",
    "                cropped = image2[y:y + h, x:x + w]\r\n",
    "                file = open(\"information.txt\", \"a\")\r\n",
    "                text = pytesseract.image_to_string(cropped)\r\n",
    "                file.write(text)\r\n",
    "                file.close\r\n",
    "\r\n",
    "            detect = cv2.QRCodeDetector()\r\n",
    "            url_data, bbox, straight_qrcode = detect.detectAndDecode(img)\r\n",
    "\r\n",
    "\r\n",
    "        if cv2.waitKey(1) == ord('q'):\r\n",
    "            break"
   ],
   "outputs": [],
   "metadata": {}
  },
  {
   "cell_type": "code",
   "execution_count": null,
   "source": [
    "webbrowser.open(val)"
   ],
   "outputs": [],
   "metadata": {}
  }
 ],
 "metadata": {
  "orig_nbformat": 4,
  "language_info": {
   "name": "python",
   "version": "3.9.7",
   "mimetype": "text/x-python",
   "codemirror_mode": {
    "name": "ipython",
    "version": 3
   },
   "pygments_lexer": "ipython3",
   "nbconvert_exporter": "python",
   "file_extension": ".py"
  },
  "kernelspec": {
   "name": "python3",
   "display_name": "Python 3.9.7 64-bit ('cvFall22': venv)"
  },
  "interpreter": {
   "hash": "52e41782f98fb38972ac69e0e4a1cd20464197d6de4aa3423c902988ca4cc3bb"
  }
 },
 "nbformat": 4,
 "nbformat_minor": 2
}